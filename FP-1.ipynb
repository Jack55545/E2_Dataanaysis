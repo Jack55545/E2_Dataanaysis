{
 "cells": [
  {
   "cell_type": "markdown",
   "metadata": {},
   "source": [
    "___\n",
    "\n",
    "# Analysis of LaLiga\n",
    "\n",
    "\n",
    "### Overview:\n",
    "\n",
    "* **Name**:  Minoru Kitajima\n",
    "* **Student number**:  0500 35 9081"
   ]
  },
  {
   "cell_type": "markdown",
   "metadata": {},
   "source": [
    "### Purpose:\n",
    "\n",
    "* The purpose of this Project is to determine the effect of Home/away on result.}\n",
    "* The key DV is Full Time results(FTR), H or A.\n",
    "* Key IVs include:\n",
    "     * Full Time Home Goal(FTHG)\n",
    "     * Full Time Away Goal(FTAG)\n",
    "     * Half Time Home Goal(HTHG)\n",
    "     * Half Time Away Goal(HTAG)\n",
    "     * Half Time Result(HTR)\n",
    "* In this site, there are dataset of 32 seasons, each season have 380 games, each game has values for all IVs as well as DV.\n",
    "* I have a Question:<span style=\"color:blue\"> How many seasons should I use?</span>"
   ]
  },
  {
   "cell_type": "markdown",
   "metadata": {},
   "source": [
    "### Dataset source:\n",
    "\n",
    "This data come from [the site](https://datahub.io/core/spanish-la-liga#season-2425)"
   ]
  }
 ],
 "metadata": {
  "kernelspec": {
   "display_name": "Python 3 (ipykernel)",
   "language": "python",
   "name": "python3"
  },
  "language_info": {
   "codemirror_mode": {
    "name": "ipython",
    "version": 3
   },
   "file_extension": ".py",
   "mimetype": "text/x-python",
   "name": "python",
   "nbconvert_exporter": "python",
   "pygments_lexer": "ipython3",
   "version": "3.12.7"
  }
 },
 "nbformat": 4,
 "nbformat_minor": 4
}
